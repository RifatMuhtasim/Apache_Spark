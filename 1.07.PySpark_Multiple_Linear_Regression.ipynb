{
  "nbformat": 4,
  "nbformat_minor": 0,
  "metadata": {
    "colab": {
      "provenance": [],
      "toc_visible": true,
      "authorship_tag": "ABX9TyO0JnXxOmUpvvKK6xdbEjgX",
      "include_colab_link": true
    },
    "kernelspec": {
      "name": "python3",
      "display_name": "Python 3"
    },
    "language_info": {
      "name": "python"
    }
  },
  "cells": [
    {
      "cell_type": "markdown",
      "metadata": {
        "id": "view-in-github",
        "colab_type": "text"
      },
      "source": [
        "<a href=\"https://colab.research.google.com/github/RifatMuhtasim/Apache_Spark/blob/main/1.07.PySpark_Multiple_Linear_Regression.ipynb\" target=\"_parent\"><img src=\"https://colab.research.google.com/assets/colab-badge.svg\" alt=\"Open In Colab\"/></a>"
      ]
    },
    {
      "cell_type": "code",
      "execution_count": 1,
      "metadata": {
        "colab": {
          "base_uri": "https://localhost:8080/"
        },
        "id": "GRZsG4b4agXI",
        "outputId": "9aa0bb1b-f17c-40f8-c98b-1adcc2798a9d"
      },
      "outputs": [
        {
          "output_type": "stream",
          "name": "stdout",
          "text": [
            "File exists!\n"
          ]
        }
      ],
      "source": [
        "import gdown\n",
        "import os\n",
        "import zipfile\n",
        "\n",
        "# Replace 'output_path' with the path where you want to save the file\n",
        "output_path = 'dataset.zip'\n",
        "\n",
        "if os.path.exists(output_path):\n",
        "    print(\"File exists!\")\n",
        "\n",
        "else:\n",
        "    print(\"File does not exist.\")\n",
        "    # Replace 'file_id' with the ID of your file in Google Drive\n",
        "    file_id = '1matQHY1Q4xHT4m_jxVSZ8Oefgk6ZiDi2'\n",
        "    gdown.download(f'https://drive.google.com/uc?id={file_id}', output_path, quiet=False)\n",
        "\n",
        "    # Path to your .zip file (Must Change. Same as the Output Path)\n",
        "    zip_file_path = '/content/dataset.zip'\n",
        "\n",
        "    # Extract the contents of the .zip file to the root directory\n",
        "    with zipfile.ZipFile(zip_file_path, 'r') as zip_ref:\n",
        "        zip_ref.extractall('/content/')\n",
        "\n",
        "    # List the contents of the root directory\n",
        "    extracted_files = !ls -a /content/\n",
        "    print(\"Files extracted to root directory:\", extracted_files)"
      ]
    },
    {
      "cell_type": "code",
      "source": [
        "#Load Spark\n",
        "from pyspark.sql import SparkSession\n",
        "spark = SparkSession.builder.appName(\"MyApp\").getOrCreate()\n",
        "spark"
      ],
      "metadata": {
        "colab": {
          "base_uri": "https://localhost:8080/",
          "height": 219
        },
        "id": "hTDI87uk-x0S",
        "outputId": "240f4193-eaae-4575-89b8-bb4dabc58758"
      },
      "execution_count": 2,
      "outputs": [
        {
          "output_type": "execute_result",
          "data": {
            "text/plain": [
              "<pyspark.sql.session.SparkSession at 0x7cbcdf2ca6e0>"
            ],
            "text/html": [
              "\n",
              "            <div>\n",
              "                <p><b>SparkSession - in-memory</b></p>\n",
              "                \n",
              "        <div>\n",
              "            <p><b>SparkContext</b></p>\n",
              "\n",
              "            <p><a href=\"http://ad668ce18f25:4040\">Spark UI</a></p>\n",
              "\n",
              "            <dl>\n",
              "              <dt>Version</dt>\n",
              "                <dd><code>v3.5.3</code></dd>\n",
              "              <dt>Master</dt>\n",
              "                <dd><code>local[*]</code></dd>\n",
              "              <dt>AppName</dt>\n",
              "                <dd><code>MyApp</code></dd>\n",
              "            </dl>\n",
              "        </div>\n",
              "        \n",
              "            </div>\n",
              "        "
            ]
          },
          "metadata": {},
          "execution_count": 2
        }
      ]
    },
    {
      "cell_type": "markdown",
      "source": [
        "# Load Dataset"
      ],
      "metadata": {
        "id": "ORtmHgmE_GD2"
      }
    },
    {
      "cell_type": "code",
      "source": [
        "#Load tips dataset\n",
        "ds = spark.read.csv(\"tips.csv\", header=True, inferSchema=True)\n",
        "ds.show()"
      ],
      "metadata": {
        "id": "2huiX8Mwaxvs",
        "colab": {
          "base_uri": "https://localhost:8080/"
        },
        "outputId": "c4fe958e-394b-452f-8003-69ed41d898ba"
      },
      "execution_count": 3,
      "outputs": [
        {
          "output_type": "stream",
          "name": "stdout",
          "text": [
            "+----------+----+------+------+---+------+----+\n",
            "|total_bill| tip|   sex|smoker|day|  time|size|\n",
            "+----------+----+------+------+---+------+----+\n",
            "|     16.99|1.01|Female|    No|Sun|Dinner|   2|\n",
            "|     10.34|1.66|  Male|    No|Sun|Dinner|   3|\n",
            "|     21.01| 3.5|  Male|    No|Sun|Dinner|   3|\n",
            "|     23.68|3.31|  Male|    No|Sun|Dinner|   2|\n",
            "|     24.59|3.61|Female|    No|Sun|Dinner|   4|\n",
            "|     25.29|4.71|  Male|    No|Sun|Dinner|   4|\n",
            "|      8.77| 2.0|  Male|    No|Sun|Dinner|   2|\n",
            "|     26.88|3.12|  Male|    No|Sun|Dinner|   4|\n",
            "|     15.04|1.96|  Male|    No|Sun|Dinner|   2|\n",
            "|     14.78|3.23|  Male|    No|Sun|Dinner|   2|\n",
            "|     10.27|1.71|  Male|    No|Sun|Dinner|   2|\n",
            "|     35.26| 5.0|Female|    No|Sun|Dinner|   4|\n",
            "|     15.42|1.57|  Male|    No|Sun|Dinner|   2|\n",
            "|     18.43| 3.0|  Male|    No|Sun|Dinner|   4|\n",
            "|     14.83|3.02|Female|    No|Sun|Dinner|   2|\n",
            "|     21.58|3.92|  Male|    No|Sun|Dinner|   2|\n",
            "|     10.33|1.67|Female|    No|Sun|Dinner|   3|\n",
            "|     16.29|3.71|  Male|    No|Sun|Dinner|   3|\n",
            "|     16.97| 3.5|Female|    No|Sun|Dinner|   3|\n",
            "|     20.65|3.35|  Male|    No|Sat|Dinner|   3|\n",
            "+----------+----+------+------+---+------+----+\n",
            "only showing top 20 rows\n",
            "\n"
          ]
        }
      ]
    },
    {
      "cell_type": "code",
      "source": [
        "ds.columns"
      ],
      "metadata": {
        "colab": {
          "base_uri": "https://localhost:8080/"
        },
        "id": "zKQw_uU6_Zs9",
        "outputId": "3351e1f4-144e-4dd0-d16d-00e0cfe622c1"
      },
      "execution_count": 4,
      "outputs": [
        {
          "output_type": "execute_result",
          "data": {
            "text/plain": [
              "['total_bill', 'tip', 'sex', 'smoker', 'day', 'time', 'size']"
            ]
          },
          "metadata": {},
          "execution_count": 4
        }
      ]
    },
    {
      "cell_type": "markdown",
      "source": [
        "# Feature Engineering"
      ],
      "metadata": {
        "id": "1r277RnH_1Og"
      }
    },
    {
      "cell_type": "markdown",
      "source": [
        "## Handling Categorical Features"
      ],
      "metadata": {
        "id": "RUUWnd9G_IC7"
      }
    },
    {
      "cell_type": "code",
      "source": [
        "from pyspark.ml.feature import StringIndexer\n",
        "\n",
        "indexer=StringIndexer(inputCols=[\"sex\", \"smoker\", 'day', 'time'],outputCols=[\"sex_indexed\", \"smoker_indexed\", 'day_indexed', 'time_indexed'])\n",
        "ds_indexed = indexer.fit(ds).transform(ds)\n",
        "ds_indexed.show()"
      ],
      "metadata": {
        "colab": {
          "base_uri": "https://localhost:8080/"
        },
        "id": "wFj9BcEM-8sd",
        "outputId": "fc01cf48-7f8c-4c95-bdfa-739bd486a3fd"
      },
      "execution_count": 5,
      "outputs": [
        {
          "output_type": "stream",
          "name": "stdout",
          "text": [
            "+----------+----+------+------+---+------+----+-----------+--------------+-----------+------------+\n",
            "|total_bill| tip|   sex|smoker|day|  time|size|sex_indexed|smoker_indexed|day_indexed|time_indexed|\n",
            "+----------+----+------+------+---+------+----+-----------+--------------+-----------+------------+\n",
            "|     16.99|1.01|Female|    No|Sun|Dinner|   2|        1.0|           0.0|        1.0|         0.0|\n",
            "|     10.34|1.66|  Male|    No|Sun|Dinner|   3|        0.0|           0.0|        1.0|         0.0|\n",
            "|     21.01| 3.5|  Male|    No|Sun|Dinner|   3|        0.0|           0.0|        1.0|         0.0|\n",
            "|     23.68|3.31|  Male|    No|Sun|Dinner|   2|        0.0|           0.0|        1.0|         0.0|\n",
            "|     24.59|3.61|Female|    No|Sun|Dinner|   4|        1.0|           0.0|        1.0|         0.0|\n",
            "|     25.29|4.71|  Male|    No|Sun|Dinner|   4|        0.0|           0.0|        1.0|         0.0|\n",
            "|      8.77| 2.0|  Male|    No|Sun|Dinner|   2|        0.0|           0.0|        1.0|         0.0|\n",
            "|     26.88|3.12|  Male|    No|Sun|Dinner|   4|        0.0|           0.0|        1.0|         0.0|\n",
            "|     15.04|1.96|  Male|    No|Sun|Dinner|   2|        0.0|           0.0|        1.0|         0.0|\n",
            "|     14.78|3.23|  Male|    No|Sun|Dinner|   2|        0.0|           0.0|        1.0|         0.0|\n",
            "|     10.27|1.71|  Male|    No|Sun|Dinner|   2|        0.0|           0.0|        1.0|         0.0|\n",
            "|     35.26| 5.0|Female|    No|Sun|Dinner|   4|        1.0|           0.0|        1.0|         0.0|\n",
            "|     15.42|1.57|  Male|    No|Sun|Dinner|   2|        0.0|           0.0|        1.0|         0.0|\n",
            "|     18.43| 3.0|  Male|    No|Sun|Dinner|   4|        0.0|           0.0|        1.0|         0.0|\n",
            "|     14.83|3.02|Female|    No|Sun|Dinner|   2|        1.0|           0.0|        1.0|         0.0|\n",
            "|     21.58|3.92|  Male|    No|Sun|Dinner|   2|        0.0|           0.0|        1.0|         0.0|\n",
            "|     10.33|1.67|Female|    No|Sun|Dinner|   3|        1.0|           0.0|        1.0|         0.0|\n",
            "|     16.29|3.71|  Male|    No|Sun|Dinner|   3|        0.0|           0.0|        1.0|         0.0|\n",
            "|     16.97| 3.5|Female|    No|Sun|Dinner|   3|        1.0|           0.0|        1.0|         0.0|\n",
            "|     20.65|3.35|  Male|    No|Sat|Dinner|   3|        0.0|           0.0|        0.0|         0.0|\n",
            "+----------+----+------+------+---+------+----+-----------+--------------+-----------+------------+\n",
            "only showing top 20 rows\n",
            "\n"
          ]
        }
      ]
    },
    {
      "cell_type": "markdown",
      "source": [
        "## VectorAssembler"
      ],
      "metadata": {
        "id": "spAYHFKM_6-m"
      }
    },
    {
      "cell_type": "code",
      "source": [
        "from pyspark.ml.feature import VectorAssembler\n",
        "feature_assembler = VectorAssembler(inputCols=['total_bill', 'size', 'sex_indexed', 'smoker_indexed', 'day_indexed', 'time_indexed'], outputCol=\"Independent Features\")\n",
        "output = feature_assembler.transform(ds_indexed)"
      ],
      "metadata": {
        "id": "GSSmc4LB_npH"
      },
      "execution_count": 6,
      "outputs": []
    },
    {
      "cell_type": "code",
      "source": [
        "#Show Independent Features\n",
        "output.select('Independent Features').show()"
      ],
      "metadata": {
        "colab": {
          "base_uri": "https://localhost:8080/"
        },
        "id": "UDt5_ShHAQXp",
        "outputId": "b7110525-4702-44bb-91cb-65a99e2cb4df"
      },
      "execution_count": 7,
      "outputs": [
        {
          "output_type": "stream",
          "name": "stdout",
          "text": [
            "+--------------------+\n",
            "|Independent Features|\n",
            "+--------------------+\n",
            "|[16.99,2.0,1.0,0....|\n",
            "|[10.34,3.0,0.0,0....|\n",
            "|[21.01,3.0,0.0,0....|\n",
            "|[23.68,2.0,0.0,0....|\n",
            "|[24.59,4.0,1.0,0....|\n",
            "|[25.29,4.0,0.0,0....|\n",
            "|[8.77,2.0,0.0,0.0...|\n",
            "|[26.88,4.0,0.0,0....|\n",
            "|[15.04,2.0,0.0,0....|\n",
            "|[14.78,2.0,0.0,0....|\n",
            "|[10.27,2.0,0.0,0....|\n",
            "|[35.26,4.0,1.0,0....|\n",
            "|[15.42,2.0,0.0,0....|\n",
            "|[18.43,4.0,0.0,0....|\n",
            "|[14.83,2.0,1.0,0....|\n",
            "|[21.58,2.0,0.0,0....|\n",
            "|[10.33,3.0,1.0,0....|\n",
            "|[16.29,3.0,0.0,0....|\n",
            "|[16.97,3.0,1.0,0....|\n",
            "|(6,[0,1],[20.65,3...|\n",
            "+--------------------+\n",
            "only showing top 20 rows\n",
            "\n"
          ]
        }
      ]
    },
    {
      "cell_type": "code",
      "source": [
        "#Final Dataset\n",
        "finalized_data = output.select(\"Independent Features\", \"tip\")\n",
        "finalized_data.show()"
      ],
      "metadata": {
        "colab": {
          "base_uri": "https://localhost:8080/"
        },
        "id": "5l1ujirQAWnY",
        "outputId": "bafaa4ab-b47d-4204-8772-b5e1d1e3079d"
      },
      "execution_count": 8,
      "outputs": [
        {
          "output_type": "stream",
          "name": "stdout",
          "text": [
            "+--------------------+----+\n",
            "|Independent Features| tip|\n",
            "+--------------------+----+\n",
            "|[16.99,2.0,1.0,0....|1.01|\n",
            "|[10.34,3.0,0.0,0....|1.66|\n",
            "|[21.01,3.0,0.0,0....| 3.5|\n",
            "|[23.68,2.0,0.0,0....|3.31|\n",
            "|[24.59,4.0,1.0,0....|3.61|\n",
            "|[25.29,4.0,0.0,0....|4.71|\n",
            "|[8.77,2.0,0.0,0.0...| 2.0|\n",
            "|[26.88,4.0,0.0,0....|3.12|\n",
            "|[15.04,2.0,0.0,0....|1.96|\n",
            "|[14.78,2.0,0.0,0....|3.23|\n",
            "|[10.27,2.0,0.0,0....|1.71|\n",
            "|[35.26,4.0,1.0,0....| 5.0|\n",
            "|[15.42,2.0,0.0,0....|1.57|\n",
            "|[18.43,4.0,0.0,0....| 3.0|\n",
            "|[14.83,2.0,1.0,0....|3.02|\n",
            "|[21.58,2.0,0.0,0....|3.92|\n",
            "|[10.33,3.0,1.0,0....|1.67|\n",
            "|[16.29,3.0,0.0,0....|3.71|\n",
            "|[16.97,3.0,1.0,0....| 3.5|\n",
            "|(6,[0,1],[20.65,3...|3.35|\n",
            "+--------------------+----+\n",
            "only showing top 20 rows\n",
            "\n"
          ]
        }
      ]
    },
    {
      "cell_type": "markdown",
      "source": [
        "# Machine Learning"
      ],
      "metadata": {
        "id": "AH3sk9ZEAudE"
      }
    },
    {
      "cell_type": "code",
      "source": [
        "#Train test split\n",
        "train_data, test_data = finalized_data.randomSplit([0.75, 0.25])"
      ],
      "metadata": {
        "id": "-bHPKtQkA7tM"
      },
      "execution_count": 9,
      "outputs": []
    },
    {
      "cell_type": "code",
      "source": [
        "from pyspark.ml.regression import LinearRegression\n",
        "regressor = LinearRegression(featuresCol='Independent Features', labelCol='tip')\n",
        "regressor = regressor.fit(train_data)"
      ],
      "metadata": {
        "id": "Rmk07B6-AxXk"
      },
      "execution_count": 10,
      "outputs": []
    },
    {
      "cell_type": "markdown",
      "source": [
        "## Predictions"
      ],
      "metadata": {
        "id": "dqsdzbILBH8Q"
      }
    },
    {
      "cell_type": "code",
      "source": [
        "pred_results = regressor.evaluate(test_data)\n",
        "pred_results.predictions.show()"
      ],
      "metadata": {
        "colab": {
          "base_uri": "https://localhost:8080/"
        },
        "id": "NTAk8Pj-BEsX",
        "outputId": "d3ec4e8c-458a-4721-a8fb-e1b878ee2261"
      },
      "execution_count": 11,
      "outputs": [
        {
          "output_type": "stream",
          "name": "stdout",
          "text": [
            "+--------------------+----+------------------+\n",
            "|Independent Features| tip|        prediction|\n",
            "+--------------------+----+------------------+\n",
            "|(6,[0,1],[9.55,2.0])|1.45| 1.933698562798512|\n",
            "|(6,[0,1],[12.69,2...| 2.0| 2.216816695894769|\n",
            "|(6,[0,1],[17.59,3...|2.64|2.8113423541825227|\n",
            "|(6,[0,1],[18.24,2...|3.76|  2.71723250439293|\n",
            "|(6,[0,1],[19.82,2...|3.18|2.8596932210464607|\n",
            "|(6,[0,1],[20.23,2...|2.01| 2.896660875367947|\n",
            "|(6,[0,1],[20.65,3...|3.35|3.0872472864355625|\n",
            "|(6,[0,1],[48.33,4...| 9.0| 5.735731884829282|\n",
            "|[7.56,2.0,0.0,0.0...|1.44|1.8283679312775032|\n",
            "|[8.35,2.0,1.0,0.0...| 1.5|1.9702063676216728|\n",
            "|[8.58,1.0,0.0,1.0...|1.92|1.6921308774493269|\n",
            "|[8.77,2.0,0.0,0.0...| 2.0|1.9004126821400136|\n",
            "|[9.78,2.0,0.0,0.0...|1.73|2.0285342546767673|\n",
            "|[9.94,2.0,0.0,0.0...|1.56|2.0059057444720585|\n",
            "|[10.09,2.0,1.0,1....| 2.0| 2.051605228023176|\n",
            "|[10.33,2.0,1.0,0....| 2.0| 2.148733088491287|\n",
            "|[10.34,3.0,0.0,0....|1.66|2.1946888553288706|\n",
            "|[10.63,2.0,1.0,1....| 2.0|1.9891537666980166|\n",
            "|[11.59,2.0,0.0,1....| 1.5| 2.005104098799213|\n",
            "|[11.69,2.0,0.0,0....|2.31| 2.200749424808567|\n",
            "+--------------------+----+------------------+\n",
            "only showing top 20 rows\n",
            "\n"
          ]
        }
      ]
    },
    {
      "cell_type": "markdown",
      "source": [
        "## Preformance Metrics"
      ],
      "metadata": {
        "id": "IGRMQWkjBZhv"
      }
    },
    {
      "cell_type": "code",
      "source": [
        "pred_results.r2, pred_results.meanAbsoluteError, pred_results.meanSquaredError"
      ],
      "metadata": {
        "colab": {
          "base_uri": "https://localhost:8080/"
        },
        "id": "GtlscrFOBSBE",
        "outputId": "123987af-15bc-43c0-98fd-037394352f36"
      },
      "execution_count": 12,
      "outputs": [
        {
          "output_type": "execute_result",
          "data": {
            "text/plain": [
              "(0.5422114966028786, 0.6543397271207358, 0.9119344249568091)"
            ]
          },
          "metadata": {},
          "execution_count": 12
        }
      ]
    }
  ]
}